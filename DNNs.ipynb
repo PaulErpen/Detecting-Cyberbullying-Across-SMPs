{
 "cells": [
  {
   "cell_type": "code",
   "execution_count": null,
   "metadata": {},
   "outputs": [
    {
     "ename": "",
     "evalue": "",
     "output_type": "error",
     "traceback": [
      "\u001b[1;31mRunning cells with 'Python 2.7.0 64-bit (system)' requires ipykernel package.\n",
      "Run the following command to install 'ipykernel' into the Python environment. \n",
      "Command: 'C:/Python27/python.exe -m pip install ipykernel -U --user --force-reinstall'"
     ]
    }
   ],
   "source": [
    "from models import get_model\n",
    "import pandas as pd\n",
    "import argparse\n",
    "import pickle\n",
    "import string\n",
    "import numpy as np\n",
    "from sklearn.model_selection import train_test_split, KFold\n",
    "from sklearn.metrics import roc_auc_score\n",
    "import preprocessor as p\n",
    "from collections import Counter\n",
    "import os\n",
    "from sklearn import metrics\n",
    "from sklearn.metrics import classification_report, confusion_matrix \n",
    "from tensorflow.contrib import learn\n",
    "from tflearn.data_utils import to_categorical, pad_sequences\n",
    "from scipy import stats\n",
    "import tflearn\n",
    "import json"
   ]
  },
  {
   "cell_type": "code",
   "execution_count": 4,
   "metadata": {
    "collapsed": true
   },
   "outputs": [],
   "source": [
    "def load_data(filename):\n",
    "    print(\"Loading data from file: \" + filename)\n",
    "    data = pickle.load(open(filename, 'rb'))\n",
    "    x_text = []\n",
    "    labels = [] \n",
    "    for i in range(len(data)):\n",
    "        if(HASH_REMOVE):\n",
    "            x_text.append(p.tokenize((data[i]['text']).encode('utf-8')))\n",
    "        else:\n",
    "            x_text.append(data[i]['text'])\n",
    "        labels.append(data[i]['label'])\n",
    "    return x_text,labels\n",
    "\n",
    "def get_filename(dataset):\n",
    "    global NUM_CLASSES, HASH_REMOVE\n",
    "    if(dataset==\"twitter\"):\n",
    "        NUM_CLASSES = 3\n",
    "        HASH_REMOVE = True\n",
    "        filename = \"data/twitter_data.pkl\"\n",
    "    elif(dataset==\"formspring\"):\n",
    "        NUM_CLASSES = 2\n",
    "        filename = \"data/formspring_data.pkl\"\n",
    "    elif(dataset==\"wiki\"):\n",
    "        NUM_CLASSES = 2\n",
    "        filename = \"data/wiki_data.pkl\"\n",
    "    return filename"
   ]
  },
  {
   "cell_type": "code",
   "execution_count": 5,
   "metadata": {
    "collapsed": true
   },
   "outputs": [],
   "source": [
    "def get_embedding_weights(filename, sep):\n",
    "    embed_dict = {}\n",
    "    file = open(filename,'r')\n",
    "    for line in file.readlines():\n",
    "        row = line.strip().split(sep)\n",
    "        embed_dict[row[0]] = row[1:]\n",
    "    print('Loaded from file: ' + str(filename))\n",
    "    file.close()\n",
    "    return embed_dict\n",
    "\n",
    "def map_embedding_weights(embed, vocab, embed_size):\n",
    "    vocab_size = len(vocab)\n",
    "    embeddingWeights = np.zeros((vocab_size , embed_size))\n",
    "    n = 0\n",
    "    words_missed = []\n",
    "    for k, v in vocab.iteritems():\n",
    "        try:\n",
    "            embeddingWeights[v] = embed[k]\n",
    "        except:\n",
    "            n += 1\n",
    "            words_missed.append(k)\n",
    "            pass\n",
    "    print(\"%d embedding missed\"%n, \" of \" , vocab_size)\n",
    "    return embeddingWeights\n",
    "\n",
    "def get_embeddings_dict(vector_type, emb_dim):\n",
    "    if vector_type == 'sswe':\n",
    "        emb_dim==50\n",
    "        sep = '\\t'\n",
    "        vector_file = 'word_vectors/sswe-u.txt'\n",
    "    elif vector_type ==\"glove\":\n",
    "        sep = ' '\n",
    "        if data == \"wiki\":\n",
    "            vector_file = 'word_vectors/glove.6B.' + str(emb_dim) + 'd.txt'\n",
    "        else:\n",
    "            vector_file = 'word_vectors/glove.twitter.27B.' + str(emb_dim) + 'd.txt'\n",
    "    else:\n",
    "        print \"ERROR: Please specify a correst model or SSWE cannot be loaded with embed size of: \" + str(emb_dim) \n",
    "        return None\n",
    "    \n",
    "    embed = get_embedding_weights(vector_file, sep)\n",
    "    return embed"
   ]
  },
  {
   "cell_type": "code",
   "execution_count": 6,
   "metadata": {
    "collapsed": true
   },
   "outputs": [],
   "source": [
    "def evaluate_model(model, testX, testY, dump_results, dump_results_file_name):\n",
    "    temp = model.predict(testX)\n",
    "    y_pred  = np.argmax(temp, 1)\n",
    "    y_true = np.argmax(testY, 1)\n",
    "    if dump_results:\n",
    "        pd.DataFrame(data={\n",
    "            \"y_true\": y_true,\n",
    "            \"y_pred\": y_pred\n",
    "        }).to_csv(dump_results_file_name)\n",
    "        print(\"Writter results to \\\"\" + dump_results_file_name + \"\\\"\")\n",
    "    if(data == \"twitter\"):\n",
    "        precision = metrics.precision_score(y_true, y_pred, average=None, labels=[0, 2, 1])\n",
    "        recall = metrics.recall_score(y_true, y_pred, average=None, labels=[0, 2, 1])\n",
    "        f1_score = metrics.f1_score(y_true, y_pred, average=None, labels=[0, 2, 1])\n",
    "    else:\n",
    "        precision = metrics.precision_score(y_true, y_pred, average=None)\n",
    "        recall = metrics.recall_score(y_true, y_pred, average=None)\n",
    "        f1_score = metrics.f1_score(y_true, y_pred, average=None)\n",
    "    print(\"Precision: \" + str(precision) + \"\\n\")\n",
    "    print(\"Recall: \" + str(recall) + \"\\n\")\n",
    "    print(\"f1_score: \" + str(f1_score) + \"\\n\")\n",
    "    print(confusion_matrix(y_true, y_pred))\n",
    "    print(\":: Classification Report\")\n",
    "    print(classification_report(y_true, y_pred))\n",
    "    return precision, recall, f1_score"
   ]
  },
  {
   "cell_type": "code",
   "execution_count": 7,
   "metadata": {
    "collapsed": true
   },
   "outputs": [],
   "source": [
    "def dump_learned_embedding(data, model_type, vector_type, embed_size, embed, vocab_processor):\n",
    "    vocab = vocab_processor.vocabulary_._mapping\n",
    "    vocab_size = len(vocab)\n",
    "    embedDict = {}\n",
    "    n = 0\n",
    "    words_missed = []\n",
    "    for k, v in vocab.iteritems():\n",
    "        try:\n",
    "            embeddingDict[v] = embed[k]\n",
    "        except:\n",
    "            n += 1\n",
    "            words_missed.append(k)\n",
    "            pass\n",
    "    print(\"%d embedding missed\"%n, \" of \" , vocab_size)\n",
    "    \n",
    "    filename = output_folder_name + data + \"_\" + model_type + \"_\" + vector_type + \"_\" + embed_size + \".pkl\"\n",
    "    with open(filename, 'wb') as handle:\n",
    "        pickle.dump(embedDict, handle, protocol=pickle.HIGHEST_PROTOCOL)"
   ]
  },
  {
   "cell_type": "code",
   "execution_count": 8,
   "metadata": {},
   "outputs": [],
   "source": [
    "def get_train_test(data, x_text, labels, oversampling_rate):\n",
    "    \n",
    "    X_train, X_test, Y_train, Y_test = train_test_split( x_text, labels, random_state=42, test_size=0.10)\n",
    "\n",
    "    X_train, Y_train = do_oversampling(data, oversampling_rate, Y_train, X_train)\n",
    "    \n",
    "    post_length = np.array([len(x.split(\" \")) for x in x_text])\n",
    "    if(data != \"twitter\"):\n",
    "        max_document_length = int(np.percentile(post_length, 95))\n",
    "    else:\n",
    "        max_document_length = max(post_length)\n",
    "    print(\"Document length : \" + str(max_document_length))\n",
    "    \n",
    "    vocab_processor = learn.preprocessing.VocabularyProcessor(max_document_length, MAX_FEATURES)\n",
    "    vocab_processor = vocab_processor.fit(x_text)\n",
    "\n",
    "    trainX = np.array(list(vocab_processor.transform(X_train)))\n",
    "    testX = np.array(list(vocab_processor.transform(X_test)))\n",
    "    \n",
    "    trainY = np.asarray(Y_train)\n",
    "    testY = np.asarray(Y_test)\n",
    "        \n",
    "    trainX = pad_sequences(trainX, maxlen=max_document_length, value=0.)\n",
    "    testX = pad_sequences(testX, maxlen=max_document_length, value=0.)\n",
    "\n",
    "    trainY = to_categorical(trainY, nb_classes=NUM_CLASSES)\n",
    "    testY = to_categorical(testY, nb_classes=NUM_CLASSES)\n",
    "    \n",
    "    data_dict = {\n",
    "        \"data\": data,\n",
    "        \"trainX\" : trainX,\n",
    "        \"trainY\" : trainY,\n",
    "        \"testX\" : testX,\n",
    "        \"testY\" : testY,\n",
    "        \"vocab_processor\" : vocab_processor\n",
    "    }\n",
    "    \n",
    "    return data_dict"
   ]
  },
  {
   "cell_type": "code",
   "execution_count": 9,
   "metadata": {
    "collapsed": true
   },
   "outputs": [],
   "source": [
    "def return_data(data_dict):\n",
    "    return data_dict[\"data\"], data_dict[\"trainX\"], data_dict[\"trainY\"], data_dict[\"testX\"], data_dict[\"testY\"], data_dict[\"vocab_processor\"]"
   ]
  },
  {
   "cell_type": "code",
   "execution_count": 10,
   "metadata": {
    "collapsed": true
   },
   "outputs": [],
   "source": [
    "def shuffle_weights(model, weights=None):\n",
    "    \"\"\"Randomly permute the weights in `model`, or the given `weights`.\n",
    "    This is a fast approximation of re-initializing the weights of a model.\n",
    "    Assumes weights are distributed independently of the dimensions of the weight tensors\n",
    "      (i.e., the weights have the same distribution along each dimension).\n",
    "    :param Model model: Modify the weights of the given model.\n",
    "    :param list(ndarray) weights: The model's weights will be replaced by a random permutation of these weights.\n",
    "      If `None`, permute the model's current weights.\n",
    "    \"\"\"\n",
    "    if weights is None:\n",
    "        weights = model.get_weights()\n",
    "    weights = [np.random.permutation(w.flat).reshape(w.shape) for w in weights]\n",
    "    # Faster, but less random: only permutes along the first dimension\n",
    "    # weights = [np.random.permutation(w) for w in weights]\n",
    "    model.set_weights(weights)"
   ]
  },
  {
   "cell_type": "code",
   "execution_count": 11,
   "metadata": {
    "collapsed": true
   },
   "outputs": [],
   "source": [
    "def train(data_dict, model_type, vector_type, embed_size, dump_results=False, dump_results_file_name=\"\"):\n",
    "\n",
    "    data, trainX, trainY, testX, testY, vocab_processor = return_data(data_dict)\n",
    "    \n",
    "    vocab_size = len(vocab_processor.vocabulary_)\n",
    "    print(\"Vocabulary Size: {:d}\".format(vocab_size))\n",
    "    vocab = vocab_processor.vocabulary_._mapping\n",
    "    \n",
    "    print(\"Running Model: \" + model_type + \" with word vector initiliazed with \" + vector_type + \" word vectors.\")\n",
    "    model = get_model(model_type, trainX.shape[1], vocab_size, embed_size, NUM_CLASSES, LEARN_RATE)\n",
    "\n",
    "    if(model_type != \"cnn\"):\n",
    "        #This is a very crude bugfix, since this method doesnt exist in the DNN class of tflearn\n",
    "        initial_weights = model.get_weights()\n",
    "        shuffle_weights(model, initial_weights)\n",
    "    \n",
    "    if(model_type == 'cnn'):\n",
    "        if(vector_type!=\"random\"):\n",
    "            print(\"Word vectors used: \" + vector_type)\n",
    "            embeddingWeights = tflearn.get_layer_variables_by_name('EmbeddingLayer')[0]\n",
    "            model.set_weights(embeddingWeights, map_embedding_weights(get_embeddings_dict(vector_type, embed_size), vocab, embed_size))\n",
    "            model.fit(trainX, trainY, n_epoch = EPOCHS, shuffle=True, show_metric=True, batch_size=BATCH_SIZE)\n",
    "        else:\n",
    "            model.fit(trainX, trainY, n_epoch = EPOCHS, shuffle=True, show_metric=True, batch_size=BATCH_SIZE)\n",
    "    else:\n",
    "        if(vector_type!=\"random\"):\n",
    "            print(\"Word vectors used: \" + vector_type)\n",
    "            model.layers[0].set_weights([map_embedding_weights(get_embeddings_dict(vector_type, embed_size), vocab, embed_size)])\n",
    "            model.fit(trainX, trainY, epochs=EPOCHS, shuffle=True, batch_size=BATCH_SIZE, \n",
    "                  verbose=1)\n",
    "        else:\n",
    "            model.fit(trainX, trainY, epochs=EPOCHS, shuffle=True, batch_size=BATCH_SIZE, \n",
    "                  verbose=1)\n",
    "    \n",
    "    return  evaluate_model(model, testX, testY, dump_results, dump_results_file_name)"
   ]
  },
  {
   "cell_type": "code",
   "execution_count": 12,
   "metadata": {
    "collapsed": true
   },
   "outputs": [],
   "source": [
    "def print_scores(precision_scores, recall_scores, f1_scores):\n",
    "    for i in range(NUM_CLASSES):\n",
    "        print(\"\\nPrecision Class %d (avg): %0.3f (+/- %0.3f)\" % (i, precision_scores[:, i].mean(), precision_scores[:, i].std() * 2))\n",
    "        print( \"\\nRecall Class %d (avg): %0.3f (+/- %0.3f)\" % (i, recall_scores[:, i].mean(), recall_scores[:, i].std() * 2))\n",
    "        print( \"\\nF1 score Class %d (avg): %0.3f (+/- %0.3f)\" % (i, f1_scores[:, i].mean(), f1_scores[:, i].std() * 2))"
   ]
  },
  {
   "cell_type": "code",
   "execution_count": 13,
   "metadata": {
    "collapsed": true
   },
   "outputs": [],
   "source": [
    "def do_oversampling(data, oversampling_rate, labels, x_text): \n",
    "    if(data==\"twitter\"):\n",
    "        NUM_CLASSES = 3\n",
    "        \n",
    "        racism = [i for i in range(len(labels)) if labels[i]==2]\n",
    "        sexism = [i for i in range(len(labels)) if labels[i]==1]\n",
    "        x_text = x_text + [x_text[x] for x in racism]*(oversampling_rate-1)+ [x_text[x] for x in sexism]*(oversampling_rate-1)\n",
    "        labels = labels + [2 for i in range(len(racism))]*(oversampling_rate-1) + [1 for i in range(len(sexism))]*(oversampling_rate-1)\n",
    "    else:  \n",
    "        NUM_CLASSES = 2\n",
    "        bully = [i for i in range(len(labels)) if labels[i]==1]\n",
    "        x_text = x_text + [x_text[x] for x in bully]*(oversampling_rate-1)\n",
    "        labels = list(labels) + [1 for i in range(len(bully))]*(oversampling_rate-1)\n",
    "\n",
    "    print(\"Counter after oversampling\")\n",
    "    from collections import Counter\n",
    "    print(Counter(labels))\n",
    "    \n",
    "    #this is never used again so im uncommenting it\n",
    "    #filter_data = []\n",
    "    #for text in x_text:\n",
    "    #    filter_data.append(\"\".join(l for l in text if l not in string.punctuation))\n",
    "        \n",
    "    return x_text, labels"
   ]
  },
  {
   "cell_type": "code",
   "execution_count": 14,
   "metadata": {
    "collapsed": true
   },
   "outputs": [],
   "source": [
    "models = [ 'cnn', 'lstm', 'blstm', 'blstm_attention']\n",
    "word_vectors = [\"random\", \"glove\" ,\"sswe\"]\n",
    "EPOCHS = 10\n",
    "BATCH_SIZE = 128\n",
    "MAX_FEATURES = 2\n",
    "NUM_CLASSES = None\n",
    "DROPOUT = 0.25\n",
    "LEARN_RATE = 0.01\n",
    "HASH_REMOVE = None\n",
    "output_folder_name = \"results/\""
   ]
  },
  {
   "cell_type": "code",
   "execution_count": 15,
   "metadata": {
    "collapsed": true
   },
   "outputs": [],
   "source": [
    "def run_model(data, oversampling_rate, model_type, vector_type, embed_size, dump_results=False, dump_results_file_name=\"\"):\n",
    "    x_text, labels = load_data(get_filename(data)) \n",
    "    if data == \"twitter\":\n",
    "        #map labels\n",
    "        dict1 = {'racism':2,'sexism':1,'none':0}\n",
    "        labels = [dict1[b] for b in labels]\n",
    "    data_dict = get_train_test(data,  x_text, labels, oversampling_rate)\n",
    "    precision, recall, f1_score = train(data_dict, model_type, vector_type, embed_size, dump_results, dump_results_file_name)\n",
    "    return precision, recall, f1_score\n"
   ]
  },
  {
   "cell_type": "code",
   "execution_count": null,
   "metadata": {},
   "outputs": [],
   "source": [
    "data = \"formspring\"\n",
    "model_type = \"blstm_attention\"\n",
    "vector_type = \"random\"\n",
    "\n",
    "for embed_size in [25, 50, 100, 200]:\n",
    "    run_model(data, 3, model_type, vector_type, embed_size)"
   ]
  },
  {
   "cell_type": "markdown",
   "metadata": {},
   "source": [
    "## Reproducing table 4"
   ]
  },
  {
   "cell_type": "code",
   "execution_count": null,
   "metadata": {},
   "outputs": [],
   "source": [
    "data_sets = [\"formspring\", \"twitter\", \"wiki\"]\n",
    "model_types = [\"cnn\", \"blstm_attention\"]\n",
    "vector_types = [\"random\", \"glove\"]\n",
    "#fixed embed size for faster computation\n",
    "embed_size = 100\n",
    "results_table_4 = []\n",
    "for data in data_sets:\n",
    "    for oversampling_rate in [1, 3]:\n",
    "        for vector_type in vector_types:\n",
    "            for model_type in model_types:\n",
    "                precision, recall, f1_score = run_model(data, \n",
    "                                                        oversampling_rate, \n",
    "                                                        model_type, \n",
    "                                                        vector_type, \n",
    "                                                        embed_size, \n",
    "                                                        True, \n",
    "                                                        \"dumps/%s_%d_%s_%s.csv\" % (data, oversampling_rate, vector_type, model_type))\n",
    "                print \"Results done for %s %d with vector type %s and model %s\" % (data, oversampling_rate, vector_type, model_type)\n",
    "                results_table_4.append({\n",
    "                    \"dataset\": data,\n",
    "                    \"oversampling_rate\": oversampling_rate,\n",
    "                    \"vector_type\": vector_type,\n",
    "                    \"model_type\": model_type,\n",
    "                    \"precision\": precision,\n",
    "                    \"recall\": recall,\n",
    "                    \"f1_score\": f1_score\n",
    "                })"
   ]
  },
  {
   "cell_type": "markdown",
   "metadata": {},
   "source": [
    "## Reproducing table 6"
   ]
  },
  {
   "cell_type": "code",
   "execution_count": null,
   "metadata": {},
   "outputs": [],
   "source": [
    "data_sets = [\"twitter\", \"formspring\", \"wiki\"]\n",
    "model_types = [ 'cnn', 'lstm', 'blstm', 'blstm_attention']\n",
    "vector_types = [\"glove\"]\n",
    "#fixed embed size for faster computation\n",
    "embed_size = 100\n",
    "results_table_6 = []\n",
    "for data_set in data_sets:\n",
    "    for oversampling_rate in [3]:\n",
    "        for vector_type in vector_types:\n",
    "            for model_type in model_types:\n",
    "                precision, recall, f1_score = run_model(data, \n",
    "                                                        oversampling_rate, \n",
    "                                                        model_type, \n",
    "                                                        vector_type, \n",
    "                                                        embed_size, \n",
    "                                                        True, \n",
    "                                                        \"dumps/%s_%d_%s_%s.csv\" % (data, oversampling_rate, vector_type, model_type))\n",
    "                print \"Results done for %s %d with vector type %s and model %s\" % (data, oversampling_rate, vector_type, model_type)\n",
    "                results_table_6.append({\n",
    "                    \"dataset\": data,\n",
    "                    \"oversampling_rate\": oversampling_rate,\n",
    "                    \"vector_type\": vector_type,\n",
    "                    \"model_type\": model_type,\n",
    "                    \"precision\": precision,\n",
    "                    \"recall\": recall,\n",
    "                    \"f1_score\": f1_score\n",
    "                })"
   ]
  },
  {
   "cell_type": "code",
   "execution_count": null,
   "metadata": {},
   "outputs": [],
   "source": []
  }
 ],
 "metadata": {
  "interpreter": {
   "hash": "e55666fbbf217aa3df372b978577f47b6009e2f78e2ec76a584f49cd54a1e62c"
  },
  "kernelspec": {
   "display_name": "Python 2",
   "language": "python",
   "name": "python3"
  },
  "language_info": {
   "codemirror_mode": {
    "name": "ipython",
    "version": 2
   },
   "file_extension": ".py",
   "mimetype": "text/x-python",
   "name": "python",
   "nbconvert_exporter": "python",
   "pygments_lexer": "ipython2",
   "version": "2.7.0"
  }
 },
 "nbformat": 4,
 "nbformat_minor": 2
}
