{
  "cells": [
    {
      "cell_type": "code",
      "execution_count": null,
      "id": "c40975c2",
      "metadata": {
        "colab": {
          "base_uri": "https://localhost:8080/"
        },
        "id": "c40975c2",
        "outputId": "54c5e6d9-5556-4a84-8ba0-a990cd55ca10"
      },
      "outputs": [
        {
          "output_type": "stream",
          "name": "stdout",
          "text": [
            "Requirement already satisfied: mlxtend in /usr/local/lib/python3.7/dist-packages (0.14.0)\n",
            "Requirement already satisfied: setuptools in /usr/local/lib/python3.7/dist-packages (from mlxtend) (57.4.0)\n",
            "Requirement already satisfied: scikit-learn>=0.18 in /usr/local/lib/python3.7/dist-packages (from mlxtend) (1.0.1)\n",
            "Requirement already satisfied: scipy>=0.17 in /usr/local/lib/python3.7/dist-packages (from mlxtend) (1.4.1)\n",
            "Requirement already satisfied: pandas>=0.17.1 in /usr/local/lib/python3.7/dist-packages (from mlxtend) (1.1.5)\n",
            "Requirement already satisfied: matplotlib>=1.5.1 in /usr/local/lib/python3.7/dist-packages (from mlxtend) (3.2.2)\n",
            "Requirement already satisfied: numpy>=1.10.4 in /usr/local/lib/python3.7/dist-packages (from mlxtend) (1.19.5)\n",
            "Requirement already satisfied: pyparsing!=2.0.4,!=2.1.2,!=2.1.6,>=2.0.1 in /usr/local/lib/python3.7/dist-packages (from matplotlib>=1.5.1->mlxtend) (3.0.6)\n",
            "Requirement already satisfied: cycler>=0.10 in /usr/local/lib/python3.7/dist-packages (from matplotlib>=1.5.1->mlxtend) (0.11.0)\n",
            "Requirement already satisfied: python-dateutil>=2.1 in /usr/local/lib/python3.7/dist-packages (from matplotlib>=1.5.1->mlxtend) (2.8.2)\n",
            "Requirement already satisfied: kiwisolver>=1.0.1 in /usr/local/lib/python3.7/dist-packages (from matplotlib>=1.5.1->mlxtend) (1.3.2)\n",
            "Requirement already satisfied: pytz>=2017.2 in /usr/local/lib/python3.7/dist-packages (from pandas>=0.17.1->mlxtend) (2018.9)\n",
            "Requirement already satisfied: six>=1.5 in /usr/local/lib/python3.7/dist-packages (from python-dateutil>=2.1->matplotlib>=1.5.1->mlxtend) (1.15.0)\n",
            "Requirement already satisfied: joblib>=0.11 in /usr/local/lib/python3.7/dist-packages (from scikit-learn>=0.18->mlxtend) (1.1.0)\n",
            "Requirement already satisfied: threadpoolctl>=2.0.0 in /usr/local/lib/python3.7/dist-packages (from scikit-learn>=0.18->mlxtend) (3.0.0)\n"
          ]
        }
      ],
      "source": [
        "!pip install mlxtend"
      ]
    },
    {
      "cell_type": "code",
      "source": [
        "# BEST RESULTS \n",
        "#--------ML-------\n",
        "# twitter - svm word\n",
        "# formspring - lr word\n",
        "# wiki - random forest word\n",
        "\n",
        "# -------DL-------\n",
        "# formspring - m4 (blstm attention) glove\n",
        "# twitter - m4 sswe/glove\n",
        "# wiki - m4 random\n",
        "\n",
        "# ---DL OVERSAMPLED---\n",
        "# formspring - m4 (blstm attention)\n",
        "# twitter - m4 random\n",
        "# wiki - m4 glove\n",
        "\n",
        "\n",
        "# deep learning results\n",
        "!wget -q --show-progress --no-check-certificate 'https://docs.google.com/uc?export=download&id=1OCbodMtEPdRR07nyWxLURcItc0w4nTdy' -O formspring_1_glove_blstm_attention.csv\n",
        "!wget -q --show-progress --no-check-certificate 'https://docs.google.com/uc?export=download&id=1jc_3j9dGNxiYlrNam-NWXicCbxNlF4dC' -O formspring_3_glove_blstm_attention.csv\n",
        "\n",
        "!wget -q --show-progress --no-check-certificate 'https://docs.google.com/uc?export=download&id=1vk0rBBwb_ZIHkp7QB3_WWrJrlLzdeZr-' -O twitter_1_glove_blstm_attention.csv\n",
        "!wget -q --show-progress --no-check-certificate 'https://docs.google.com/uc?export=download&id=13OqiD5B8tQceJHupgOvJWE8KV8JTSUd5' -O twitter_3_glove_blstm_attention.csv\n",
        "\n",
        "!wget -q --show-progress --no-check-certificate 'https://docs.google.com/uc?export=download&id=1qL9DfUQzJhU7LihHXU-qX-TMxHSlAFlh' -O wiki_1_glove_blstm_attention.csv\n",
        "!wget -q --show-progress --no-check-certificate 'https://docs.google.com/uc?export=download&id=1N0cHkdPLv-Gn3rNi4NBe_6z1_kTJllLP' -O wiki_3_glove_blstm_attention.csv\n",
        "\n",
        "# traditional machine learning results\n",
        "!wget -q --show-progress --no-check-certificate 'https://docs.google.com/uc?export=download&id=1YusaJNhRFwa34wI58EplJ7Ca__DF9ufU' -O formspring_lr_wordbased.csv\n",
        "!wget -q --show-progress --no-check-certificate 'https://docs.google.com/uc?export=download&id=1yVngOLG949lzsiA0rtmmgau-ae6DOQ67' -O twitter_svm_wordbased.csv\n",
        "!wget -q --show-progress --no-check-certificate 'https://docs.google.com/uc?export=download&id=1MsIfz1MKkwMF1NTnvEbnP58Kha0vcgw5' -O wiki_random_forest_wordbased.csv\n",
        "\n",
        "\n",
        "\n",
        "# !wget -q --show-progress --no-check-certificate 'https://docs.google.com/uc?export=download&id=1c8sY3gyvhb2f1oAAGqRKUp-BYEcTvOfI' -O formspring_1_glove_cnn.csv\n",
        "# !wget -q --show-progress --no-check-certificate 'https://docs.google.com/uc?export=download&id=1WZjbykdQQzvBy8BA16F-sUIT9uLjE6B3' -O formspring_1_random_blstm_attention.csv\n",
        "# !wget -q --show-progress --no-check-certificate 'https://docs.google.com/uc?export=download&id=1_wsSJj2Pu3l2qc2sa4W-57nBPuF4CeNT' -O formspring_1_random_cnn.csv\n",
        "\n",
        "# !wget -q --show-progress --no-check-certificate 'https://docs.google.com/uc?export=download&id=12FpbMthS7QQpz8XpaMZi2t3rBqe06Cti' -O formspring_3_glove_cnn.csv\n",
        "# !wget -q --show-progress --no-check-certificate 'https://docs.google.com/uc?export=download&id=1jxGhxl0We1QNkjgfa9D5WAMRxq0xDmeW' -O formspring_3_random_blstm_attention.csv\n",
        "# !wget -q --show-progress --no-check-certificate 'https://docs.google.com/uc?export=download&id=1aLNHlgJJ8r_zQR_avYz42CzgRN290-KW' -O formspring_3_random_cnn.csv\n",
        "\n",
        "# !wget -q --show-progress --no-check-certificate 'https://docs.google.com/uc?export=download&id=1cToFRbS-2Ox4El0gPDETdHYFdu1uba1y' -O twitter_1_glove_cnn.csv\n",
        "# !wget -q --show-progress --no-check-certificate 'https://docs.google.com/uc?export=download&id=1aQh9MIedUi04C67nLi28HFw62sZ-rkt2' -O twitter_1_random_blstm_attention.csv\n",
        "# !wget -q --show-progress --no-check-certificate 'https://docs.google.com/uc?export=download&id=1qMHC4uWKeXTKmYqlZBsl2d_BQiYovJRe' -O twitter_1_random_cnn.csv\n",
        "\n",
        "# !wget -q --show-progress --no-check-certificate 'https://docs.google.com/uc?export=download&id=1vk0rBBwb_ZIHkp7QB3_WWrJrlLzdeZr-' -O twiiter_3_glove_blstm_attention.csv\n",
        "# !wget -q --show-progress --no-check-certificate 'https://docs.google.com/uc?export=download&id=1M5oQY98HGoHJULzSDVNjQ9jewdCdsHd5' -O twitter_3_glove_cnn.csv\n",
        "# !wget -q --show-progress --no-check-certificate 'https://docs.google.com/uc?export=download&id=1y6reifvMjYEmDClAO30whljMdajpGnvU' -O twitter_3_random_cnn.csv\n",
        "\n",
        "#!wget -q --show-progress --no-check-certificate 'https://docs.google.com/uc?export=download&id=1loQ8xvYsJfqLOI9aAc54HBGsB-Glpto3' -O formspring_svm_ngrams.csv\n",
        "#!wget -q --show-progress --no-check-certificate 'https://docs.google.com/uc?export=download&id=1B2PujTZagZtobXCIDD-Ioi_i8Kymmfc4' -O formspring_naive_ngrams.csv\n",
        "#!wget -q --show-progress --no-check-certificate 'https://docs.google.com/uc?export=download&id=1wcFLgNQH04usNb3ebkByaEd16dzY75kJ' -O formspring_random_forest_ngrams.csv\n",
        "#!wget -q --show-progress --no-check-certificate 'https://docs.google.com/uc?export=download&id=1wcFLgNQH04usNb3ebkByaEd16dzY75kJ' -O wiki_random_forest_wordbased.csv\n"
      ],
      "metadata": {
        "colab": {
          "base_uri": "https://localhost:8080/"
        },
        "id": "y1Dt66NsXiP9",
        "outputId": "ecdbfe11-a0f9-40e3-c5ed-82b2c05689f5"
      },
      "id": "y1Dt66NsXiP9",
      "execution_count": null,
      "outputs": [
        {
          "output_type": "stream",
          "name": "stdout",
          "text": [
            "formspring_1_glove_ 100%[===================>]  10.16K  --.-KB/s    in 0s      \n",
            "formspring_3_glove_ 100%[===================>]  10.16K  --.-KB/s    in 0s      \n",
            "twitter_1_glove_bls 100%[===================>]  13.07K  --.-KB/s    in 0s      \n",
            "twitter_3_glove_bls 100%[===================>]  13.07K  --.-KB/s    in 0s      \n",
            "wiki_1_glove_blstm_ 100%[===================>]  49.85K  --.-KB/s    in 0s      \n",
            "wiki_3_glove_blstm_ 100%[===================>]  49.85K  --.-KB/s    in 0.001s  \n",
            "formspring_lr_wordb 100%[===================>]  10.16K  --.-KB/s    in 0.001s  \n",
            "twitter_svm_wordbas 100%[===================>]  13.07K  --.-KB/s    in 0s      \n",
            "wiki_random_forest_ 100%[===================>]  49.85K  --.-KB/s    in 0s      \n"
          ]
        }
      ]
    },
    {
      "cell_type": "code",
      "source": [
        "import pandas as pd\n",
        "from sklearn.metrics import accuracy_score\n",
        "import numpy as np\n",
        "from mlxtend.evaluate import mcnemar_table, mcnemar"
      ],
      "metadata": {
        "id": "SPJDyTK_zVYg"
      },
      "id": "SPJDyTK_zVYg",
      "execution_count": null,
      "outputs": []
    },
    {
      "cell_type": "code",
      "source": [
        "formspring_ml = pd.read_csv('/content/formspring_lr_wordbased.csv')\n",
        "formspring_1 = pd.read_csv('/content/formspring_1_glove_blstm_attention.csv')\n",
        "formspring_3 = pd.read_csv('/content/formspring_3_glove_blstm_attention.csv')\n",
        "\n",
        "twitter_ml = pd.read_csv('/content/twitter_svm_wordbased.csv')\n",
        "twitter_1 = pd.read_csv('/content/twitter_1_glove_blstm_attention.csv')\n",
        "twitter_3 = pd.read_csv('/content/twitter_3_glove_blstm_attention.csv')\n",
        "\n",
        "wiki_ml = pd.read_csv('/content/wiki_random_forest_wordbased.csv')\n",
        "wiki_1 = pd.read_csv('/content/wiki_1_glove_blstm_attention.csv')\n",
        "wiki_3 = pd.read_csv('/content/wiki_3_glove_blstm_attention.csv')"
      ],
      "metadata": {
        "id": "HzSt9yvSenJa"
      },
      "id": "HzSt9yvSenJa",
      "execution_count": null,
      "outputs": []
    },
    {
      "cell_type": "code",
      "execution_count": null,
      "id": "bf135abe",
      "metadata": {
        "id": "bf135abe"
      },
      "outputs": [],
      "source": [
        "def mcnemar_sigtest(ypred1, ypred2, ytrue, alpha=0.05):\n",
        "    table = mcnemar_table(y_target=ytrue, \n",
        "                   y_model1=ypred1, \n",
        "                   y_model2=ypred2)\n",
        "\n",
        "    chi2, p = mcnemar(ary=table, corrected=True)\n",
        "\n",
        "    scientific_notation=\"{:e}\".format(p)\n",
        "\n",
        "    print(f'chi-squared: {chi2:.3f}')\n",
        "    print(f'p-value: {scientific_notation}')\n",
        "\n",
        "    #null hypothesis: the predictive performance of two models are equal\n",
        "    if p > alpha:\n",
        "        print(\"Null hyphotesis can't be rejected. There is no significant difference between the two predictive models.\")\n",
        "    else:\n",
        "        print(\"Null hyphotesis rejected. There is a significant difference between the two predictive models.\")\n"
      ]
    },
    {
      "cell_type": "code",
      "source": [
        "y_true_formspring  = formspring_1['y_true']\n",
        "y_true_twitter  = twitter_1['y_true']\n",
        "y_true_wiki  = wiki_1['y_true']"
      ],
      "metadata": {
        "id": "Z449bkGZ2w_D"
      },
      "id": "Z449bkGZ2w_D",
      "execution_count": null,
      "outputs": []
    },
    {
      "cell_type": "code",
      "execution_count": null,
      "id": "bdaa7faf",
      "metadata": {
        "colab": {
          "base_uri": "https://localhost:8080/"
        },
        "id": "bdaa7faf",
        "outputId": "65b30dd0-4989-4277-b710-a6c3dc19b37c"
      },
      "outputs": [
        {
          "output_type": "stream",
          "name": "stdout",
          "text": [
            "--------------------------Test between ML and DL models----------------------------------\n",
            "--Twitter McNemar significance test--\n",
            "\n",
            "chi-squared: 827.889\n",
            "p-value: 4.661696e-182\n",
            "Null hyphotesis rejected. There is a significant difference between the two predictive models.\n",
            "\n",
            "\n",
            "--Formspring McNemar significance test--\n",
            "\n",
            "chi-squared: 14.329\n",
            "p-value: 1.534865e-04\n",
            "Null hyphotesis rejected. There is a significant difference between the two predictive models.\n",
            "\n",
            "\n",
            "--Wikipedia McNemar significance test--\n",
            "\n",
            "chi-squared: 4.221\n",
            "p-value: 3.991490e-02\n",
            "Null hyphotesis rejected. There is a significant difference between the two predictive models.\n",
            "\n",
            "\n"
          ]
        }
      ],
      "source": [
        "# SIGNIFICANCE TESTES COMAPRING ML MODELS VS DL MODELS\n",
        "print(\"--------------------------Test between ML and DL models----------------------------------\")\n",
        "\n",
        "print(\"--Twitter McNemar significance test--\\n\")\n",
        "mcnemar_sigtest(twitter_ml['y_pred'],  twitter_1['y_pred'],  y_true_twitter)\n",
        "print(\"\\n\")\n",
        "\n",
        "\n",
        "print(\"--Formspring McNemar significance test--\\n\")\n",
        "mcnemar_sigtest(formspring_ml['y_pred'], formspring_1['y_pred'], y_true_formspring)\n",
        "print(\"\\n\")\n",
        "\n",
        "print(\"--Wikipedia McNemar significance test--\\n\")\n",
        "mcnemar_sigtest(wiki_ml['y_pred'], wiki_1['y_pred'], y_true_wiki)\n",
        "print(\"\\n\")"
      ]
    },
    {
      "cell_type": "code",
      "execution_count": null,
      "id": "57ca3e82",
      "metadata": {
        "colab": {
          "base_uri": "https://localhost:8080/"
        },
        "id": "57ca3e82",
        "outputId": "f80742ff-b57f-436d-9c4a-8a5fb54fe386"
      },
      "outputs": [
        {
          "output_type": "stream",
          "name": "stdout",
          "text": [
            "--------------------------Test between basic and oversampled DL models----------------------------------\n",
            "--Twitter McNemar significance test--\n",
            "\n",
            "chi-squared: 0.529\n",
            "p-value: 4.670589e-01\n",
            "Null hyphotesis can't be rejected. There is no significant difference between the two predictive models.\n",
            "\n",
            "\n",
            "--Formspring McNemar significance test--\n",
            "\n",
            "chi-squared: 3.704\n",
            "p-value: 5.429183e-02\n",
            "Null hyphotesis can't be rejected. There is no significant difference between the two predictive models.\n",
            "\n",
            "\n",
            "--Wikipedia McNemar significance test--\n",
            "\n",
            "chi-squared: 29.158\n",
            "p-value: 6.669421e-08\n",
            "Null hyphotesis rejected. There is a significant difference between the two predictive models.\n",
            "\n",
            "\n"
          ]
        }
      ],
      "source": [
        "# SIGNIFICANCE TESTES COMAPRING DL MODELS VS DL OVERSAMPLED MODELS\n",
        "\n",
        "print(\"--------------------------Test between basic and oversampled DL models----------------------------------\")\n",
        "print(\"--Twitter McNemar significance test--\\n\")\n",
        "mcnemar_sigtest(twitter_1['y_pred'],  twitter_3['y_pred'],  y_true_twitter)\n",
        "print(\"\\n\")\n",
        "\n",
        "\n",
        "print(\"--Formspring McNemar significance test--\\n\")\n",
        "mcnemar_sigtest(formspring_1['y_pred'], formspring_3['y_pred'], y_true_formspring)\n",
        "print(\"\\n\")\n",
        "\n",
        "print(\"--Wikipedia McNemar significance test--\\n\")\n",
        "mcnemar_sigtest(wiki_1['y_pred'], wiki_3['y_pred'], y_true_wiki)\n",
        "print(\"\\n\")"
      ]
    },
    {
      "cell_type": "code",
      "source": [
        "# TRANSFER LEARNING SIGNIFICANCE"
      ],
      "metadata": {
        "id": "4iBKmLAffTle"
      },
      "id": "4iBKmLAffTle",
      "execution_count": null,
      "outputs": []
    },
    {
      "cell_type": "code",
      "source": [
        "# def read_dl_dataset_files(dataset_name, oversampling_rate=None):\n",
        "#   if oversampling_rate is not None:\n",
        "#     name = dataset_name + \"_\" + str(oversampling_rate)\n",
        "#   else:\n",
        "#     name = dataset_name\n",
        "\n",
        "#   df_glove_blstm_attention = pd.read_csv('/content/' + name + '_glove_blstm_attention.csv')\n",
        "#   df_glove_cnn = pd.read_csv('/content/' + name + '_glove_cnn.csv')\n",
        "#   df_random_blstm_attention = pd.read_csv('/content/' + name + '_random_blstm_attention.csv')\n",
        "#   df_random_cnn = pd.read_csv('/content/' + name + '_random_cnn.csv')\n",
        "\n",
        "#   return df_glove_blstm_attention, df_glove_cnn, df_random_blstm_attention, df_random_cnn\n",
        "\n",
        "\n",
        "# def read_ml_dataset_files(dataset_name):\n",
        "    \n",
        "#   df_svm_ngram = pd.read_csv('/content/' + dataset_name + '_svm_ngrams.csv')\n",
        "#   df_naive_ngrams = pd.read_csv('/content/' + dataset_name + '_naive_ngrams.csv')\n",
        "#   df_lr_ngrams = pd.read_csv('/content/' + dataset_name + '_lr_ngrams.csv')\n",
        "#   df_random_forest_ngrams = pd.read_csv('/content/' + dataset_name + '_random_forest_ngrams.csv')\n",
        "\n",
        "#   return df_svm_ngram, df_naive_ngrams, df_lr_ngrams, df_random_forest_ngrams\n",
        "\n",
        "\n",
        "# formspring_1_glove_blstm_attention, formspring_1_glove_cnn, formspring_1_random_blstm_attention, formspring_1_random_cnn = read_dl_dataset_files('formspring', 1)\n",
        "# formspring_3_glove_blstm_attention, formspring_3_glove_cnn, formspring_3_random_blstm_attention, formspring_3_random_cnn = read_dl_dataset_files('formspring', 3)\n",
        "# formspring_svm_ngram, formspring_naive_ngrams, formspring_lr_ngrams, formspring_random_forest_ngrams = read_ml_dataset_files('formspring')\n",
        "\n",
        "# twitter_1_glove_blstm_attention, twitter_1_glove_cnn, twitter_1_random_blstm_attention, twitter_1_random_cnn = read_dl_dataset_files('twitter', 1)\n",
        "#twitter_3_glove_blstm_attention, twitter3_glove_cnn, twitter_3_random_blstm_attention, twitter_3_random_cnn = read_dataset_files('twitter', 3)\n"
      ],
      "metadata": {
        "id": "F3HqVfOCc4xT"
      },
      "id": "F3HqVfOCc4xT",
      "execution_count": null,
      "outputs": []
    }
  ],
  "metadata": {
    "kernelspec": {
      "display_name": "Python 3 (ipykernel)",
      "language": "python",
      "name": "python3"
    },
    "language_info": {
      "codemirror_mode": {
        "name": "ipython",
        "version": 3
      },
      "file_extension": ".py",
      "mimetype": "text/x-python",
      "name": "python",
      "nbconvert_exporter": "python",
      "pygments_lexer": "ipython3",
      "version": "3.9.6"
    },
    "colab": {
      "name": "Significance testing.ipynb",
      "provenance": []
    }
  },
  "nbformat": 4,
  "nbformat_minor": 5
}